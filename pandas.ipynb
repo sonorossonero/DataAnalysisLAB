{
 "cells": [
  {
   "cell_type": "code",
   "execution_count": 6,
   "metadata": {},
   "outputs": [
    {
     "data": {
      "text/plain": [
       "'\\nSERIES :\\n\\nSeries() is a function present in the Pandas library \\nthat creates a one-dimensional array and can hold any type of objects or data in it.\\n\\n'"
      ]
     },
     "execution_count": 6,
     "metadata": {},
     "output_type": "execute_result"
    }
   ],
   "source": [
    "'''\n",
    "SERIES :\n",
    "\n",
    "Series() is a function present in the Pandas library \n",
    "that creates a one-dimensional array and can hold any type of objects or data in it.\n",
    "\n",
    "'''"
   ]
  },
  {
   "cell_type": "code",
   "execution_count": 8,
   "metadata": {},
   "outputs": [],
   "source": [
    "import numpy as np\n",
    "import pandas as pd"
   ]
  },
  {
   "cell_type": "markdown",
   "metadata": {},
   "source": [
    "### 1.\tWrite a Pandas program to create and display a one-dimensional array-like object containing an array of data using Pandas module"
   ]
  },
  {
   "cell_type": "code",
   "execution_count": 5,
   "metadata": {},
   "outputs": [
    {
     "name": "stdout",
     "output_type": "stream",
     "text": [
      "0    a\n",
      "1    b\n",
      "2    c\n",
      "3    d\n",
      "dtype: object\n",
      "{'asma': 158, 'parveen': 159}\n",
      "a    1\n",
      "b    2\n",
      "c    3\n",
      "d    4\n",
      "e    5\n",
      "dtype: int64\n"
     ]
    }
   ],
   "source": [
    "# creating an series with ARRAY\n",
    "\n",
    "data = np.array(['a','b','c','d'])\n",
    "s = pd.Series(data)\n",
    "print(s)\n",
    "\n",
    "# creating a series with dict\n",
    "\n",
    "d = {'asma' : 158, 'parveen' : 159}\n",
    "s = pd.Series(d)\n",
    "print(d)\n",
    "\n",
    "# creating series with scalar values\n",
    "\n",
    "s = (1,2,3,4,5)\n",
    "indexx = list('abcde')\n",
    "\n",
    "d = pd.Series(s, index = indexx)\n",
    "print(d)"
   ]
  },
  {
   "cell_type": "markdown",
   "metadata": {},
   "source": [
    "### 2.\tWrite a pandas program to convert a pandas module series to python list."
   ]
  },
  {
   "cell_type": "code",
   "execution_count": 15,
   "metadata": {},
   "outputs": [
    {
     "name": "stdout",
     "output_type": "stream",
     "text": [
      "a    1\n",
      "b    2\n",
      "c    3\n",
      "d    4\n",
      "e    5\n",
      "dtype: int32\n",
      "<class 'pandas.core.series.Series'> \n",
      "\n",
      "[1, 2, 3, 4, 5]\n",
      "<class 'list'>\n"
     ]
    }
   ],
   "source": [
    "a = np.array([1,2,3,4,5]) \n",
    "s = pd.Series(a,index = list('abcde'))\n",
    "print(s)\n",
    "print(type(s),'\\n')\n",
    "\n",
    "# converting into a list\n",
    "\n",
    "ToList = s.tolist()\n",
    "print(ToList)\n",
    "print(type(ToList))"
   ]
  },
  {
   "cell_type": "markdown",
   "metadata": {},
   "source": [
    "### 3.\tWrite a pandas program to add, subtract, multiple and divide two pandas series."
   ]
  },
  {
   "cell_type": "code",
   "execution_count": 16,
   "metadata": {},
   "outputs": [
    {
     "name": "stdout",
     "output_type": "stream",
     "text": [
      "The series are:  a    1\n",
      "b    2\n",
      "c    3\n",
      "d    4\n",
      "e    5\n",
      "dtype: int64 z     10\n",
      "y     20\n",
      "a    -10\n",
      "c    -50\n",
      "e    100\n",
      "dtype: int64\n",
      "a     -9.0\n",
      "b      NaN\n",
      "c    -47.0\n",
      "d      NaN\n",
      "e    105.0\n",
      "y      NaN\n",
      "z      NaN\n",
      "dtype: float64\n",
      "------\n",
      "\n",
      "a     -9.0\n",
      "b      2.0\n",
      "c    -47.0\n",
      "d      4.0\n",
      "e    105.0\n",
      "y     20.0\n",
      "z     10.0\n",
      "dtype: float64\n",
      "a    11.0\n",
      "b     2.0\n",
      "c    53.0\n",
      "d     4.0\n",
      "e   -95.0\n",
      "y   -20.0\n",
      "z   -10.0\n",
      "dtype: float64\n",
      "a    -10.0\n",
      "b      0.0\n",
      "c   -150.0\n",
      "d      0.0\n",
      "e    500.0\n",
      "y      0.0\n",
      "z      0.0\n",
      "dtype: float64\n",
      "a   -0.10\n",
      "b     inf\n",
      "c   -0.06\n",
      "d     inf\n",
      "e    0.05\n",
      "y    0.00\n",
      "z    0.00\n",
      "dtype: float64\n"
     ]
    }
   ],
   "source": [
    "# Mathematical operations on Series\n",
    "\n",
    "''' \n",
    "The values with same indices are added otherwise return NaN\n",
    "'''\n",
    "s1= pd.Series([1,2,3,4,5], index = ['a', 'b', 'c', 'd', 'e'])\n",
    "s2 = pd.Series([10,20,-10,-50,100],index = ['z', 'y', 'a', 'c', 'e'])\n",
    "\n",
    "# Addition of two Series\n",
    "print(\"The series are: \",s1,s2)\n",
    "print(s1+s2)\n",
    "print(\"------\\n\")\n",
    "print(s1.add(s2,fill_value = 0)) \n",
    "print(s1.subtract(s2,fill_value = 0))\n",
    "print(s1.multiply(s2,fill_value = 0))\n",
    "print(s1.div(s2,fill_value = 0))"
   ]
  },
  {
   "cell_type": "markdown",
   "metadata": {},
   "source": [
    "### 4.\tWrite a Pandas program to convert all the string values to upper, lower cases in a given pandas series. Also find the length of the string values."
   ]
  },
  {
   "cell_type": "code",
   "execution_count": 26,
   "metadata": {},
   "outputs": [
    {
     "name": "stdout",
     "output_type": "stream",
     "text": [
      "0       aSma\n",
      "1    parvEen\n",
      "2     nourIn\n",
      "3     omarie\n",
      "dtype: string\n",
      "-------\n",
      "\n",
      "0       ASMA\n",
      "1    PARVEEN\n",
      "2     NOURIN\n",
      "3     OMARIE\n",
      "dtype: string\n",
      "0       asma\n",
      "1    parveen\n",
      "2     nourin\n",
      "3     omarie\n",
      "dtype: string\n",
      "0    4\n",
      "1    7\n",
      "2    6\n",
      "3    6\n",
      "dtype: Int64\n",
      "-------\n",
      "\n"
     ]
    }
   ],
   "source": [
    "\n",
    "indexx = list('abcd')\n",
    "\n",
    "a = pd.Series(['aSma','parvEen','nourIn','omarie'],dtype=\"string\")\n",
    "print(a)\n",
    "\n",
    "print(\"-------\\n\")\n",
    "print(a.str.upper())\n",
    "print(a.str.lower())\n",
    "print(a.str.len())\n",
    "\n",
    "print(\"-------\\n\")\n",
    "\n"
   ]
  },
  {
   "cell_type": "markdown",
   "metadata": {},
   "source": [
    "### 5.\tWrite a Pandas program to remove whitespaces, left sided whitespaces and right sided whitespaces of the string values of a given pandas series"
   ]
  },
  {
   "cell_type": "code",
   "execution_count": 27,
   "metadata": {},
   "outputs": [
    {
     "name": "stdout",
     "output_type": "stream",
     "text": [
      "Index(['  jack', 'jill   ', 'jesse   ', '   frank'], dtype='object')\n",
      "Index(['  jack', 'jill', 'jesse', '   frank'], dtype='object')\n",
      "-----\n",
      "Index(['jack', 'jill   ', 'jesse   ', 'frank'], dtype='object')\n",
      "\n",
      "\n",
      "\n",
      "Index(['  jack  ', '  jill   ', 'jesse', '  frank'], dtype='object')\n",
      "Index(['jack', 'jill', 'jesse', 'frank'], dtype='object')\n"
     ]
    }
   ],
   "source": [
    "\n",
    "idx=pd.Index([\"  jack\",\"jill   \",\"jesse   \",\"   frank\"])\n",
    "print(idx)\n",
    "print(idx.str.rstrip())\n",
    "print(\"-----\")\n",
    "print(idx.str.lstrip())\n",
    "print(\"\\n\\n\")\n",
    "idx=pd.Index([\"  jack  \",\"  jill   \",\"jesse\",\"  frank\"])\n",
    "print(idx)\n",
    "print(idx.str.strip())\n",
    "\n"
   ]
  },
  {
   "cell_type": "markdown",
   "metadata": {},
   "source": [
    "### 6.\tWrite a Pandas program to create and display a DataFrame consist of student name, father name , mobile number as columns and register number as index."
   ]
  },
  {
   "cell_type": "code",
   "execution_count": null,
   "metadata": {},
   "outputs": [],
   "source": []
  },
  {
   "cell_type": "code",
   "execution_count": null,
   "metadata": {},
   "outputs": [],
   "source": []
  },
  {
   "cell_type": "markdown",
   "metadata": {},
   "source": [
    "### 7.\tWrite a Pandas program to get list from DataFrame column headers."
   ]
  },
  {
   "cell_type": "markdown",
   "metadata": {},
   "source": [
    "### 8.\tWrite a Pandas program to change the name of the student."
   ]
  },
  {
   "cell_type": "markdown",
   "metadata": {},
   "source": [
    "### 9.\tWrite a Pandas program to insert a new column “grade” in existing DataFrame"
   ]
  },
  {
   "cell_type": "markdown",
   "metadata": {},
   "source": [
    "### 10 .  Write a pandas program to create and display a dataframe from a specified dictionary data which has the index labels."
   ]
  },
  {
   "cell_type": "markdown",
   "metadata": {},
   "source": [
    "### PYTHON DATAFRAME BASICS"
   ]
  },
  {
   "cell_type": "markdown",
   "metadata": {},
   "source": [
    "### 1. How to create a Dataframe\n",
    "•\tCreating a DataFrame from a list of lists\n",
    "\n",
    "•\tCreating a DataFrame from a dict of lists:\n",
    "\n",
    "•\tCreating an index DataFrame from a dict of lists:\n",
    "\n",
    "•\tCreating a DataFrame from a list of dicts\n",
    "\n",
    "•\tCreating a DataFrame from a list of dicts and specifying the row indices.\n",
    "\n",
    "•\tCreating a DataFrame from a list of dicts and specifying both the row indices and the column indices\n",
    "\n",
    "•\tCreating a DataFrame from a list of tuples:\n",
    "\n",
    "•\tCreating a DataFrame using the zip() function:\n",
    "\n",
    "•\tCreating an empty DataFrame\n"
   ]
  },
  {
   "cell_type": "code",
   "execution_count": 60,
   "metadata": {},
   "outputs": [
    {
     "name": "stdout",
     "output_type": "stream",
     "text": [
      "   Numbers\n",
      "0        1\n",
      "1        2\n",
      "2        3\n",
      "3        4\n",
      "4        5\n",
      "\n",
      "------\n",
      "\n",
      "      Name  Age\n",
      "0     asma   11\n",
      "1  parveen   12\n",
      "2    nouri   10\n",
      "\n",
      "------\n",
      "\n",
      "      NAME  AGE\n",
      "a     asma   11\n",
      "b  parveen   12\n",
      "c    norin   13\n",
      "d   omarie   14\n",
      "\n",
      "------\n",
      "\n",
      "    NAME  AGE\n",
      "0   asma   10\n",
      "1  parvi   11\n",
      "\n",
      "-----\n",
      "\n",
      "             NAME  AGE\n",
      "first_row    asma   10\n",
      "second_row  parvi   11\n",
      "\n",
      "------\n",
      "\n",
      "     Name  Age  Score\n",
      "0   Peter   18      7\n",
      "1    Riff   15      6\n",
      "2    John   17      8\n",
      "3  Michel   18      7\n",
      "4   Sheli   17      5\n"
     ]
    }
   ],
   "source": [
    "# from list\n",
    "\n",
    "a = [1,2,3,4,5]\n",
    "d = pd.DataFrame(a,columns = [\"Numbers\"])\n",
    "print(d)\n",
    "print('\\n------\\n')\n",
    "\n",
    "# from list of lists\n",
    "\n",
    "a = [['asma',11],['parveen',12],['nouri',10]]\n",
    "d = pd.DataFrame(a,columns = [\"Name\",\"Age\"])  # we can also specify index = [...]\n",
    "print(d)\n",
    "print('\\n------\\n')\n",
    "\n",
    "# index data frame from dict of lists\n",
    "\n",
    "a = ['asma','parveen','norin','omarie']\n",
    "age = [11,12,13,14]\n",
    "\n",
    "a = {'NAME': name,'AGE':age}\n",
    "d = pd.DataFrame(a,index = list('abcd'))\n",
    "print(d)\n",
    "print('\\n------\\n')\n",
    "\n",
    "# from list of dict\n",
    "\n",
    "a = [{'NAME': 'asma','AGE': 10},{'NAME':'parvi','AGE':11}]\n",
    "d = pd.DataFrame(a)\n",
    "print(d)\n",
    "print('\\n-----\\n')\n",
    "\n",
    "# specifying row indices and column indices\n",
    "\n",
    "a = [{'NAME': 'asma','AGE': 10},{'NAME':'parvi','AGE':11}]\n",
    "d = pd.DataFrame(a,index = [\"first_row\",\"second_row\"])\n",
    "print(d)\n",
    "print(\"\\n------\\n\")\n",
    "# from list of tuples\n",
    "\n",
    "# data in the form of list of tuples\n",
    "data = [('Peter', 18, 7),\n",
    "        ('Riff', 15, 6),\n",
    "        ('John', 17, 8),\n",
    "        ('Michel', 18, 7),\n",
    "        ('Sheli', 17, 5) ]\n",
    " \n",
    "# create DataFrame using data\n",
    "df = pd.DataFrame(data, columns =['Name', 'Age', 'Score'])\n",
    " \n",
    "print(df)\n"
   ]
  },
  {
   "cell_type": "code",
   "execution_count": null,
   "metadata": {},
   "outputs": [],
   "source": [
    "\n",
    "\n"
   ]
  }
 ],
 "metadata": {
  "kernelspec": {
   "display_name": "Python 3",
   "language": "python",
   "name": "python3"
  },
  "language_info": {
   "codemirror_mode": {
    "name": "ipython",
    "version": 3
   },
   "file_extension": ".py",
   "mimetype": "text/x-python",
   "name": "python",
   "nbconvert_exporter": "python",
   "pygments_lexer": "ipython3",
   "version": "3.8.5"
  }
 },
 "nbformat": 4,
 "nbformat_minor": 4
}
