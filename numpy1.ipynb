{
 "cells": [
  {
   "cell_type": "code",
   "execution_count": 1,
   "id": "7cfc82f4",
   "metadata": {},
   "outputs": [],
   "source": [
    "import numpy as np"
   ]
  },
  {
   "cell_type": "markdown",
   "id": "c489b998",
   "metadata": {},
   "source": [
    "### i) Create a one-dimensional array and perform all operations\n"
   ]
  },
  {
   "cell_type": "code",
   "execution_count": 80,
   "id": "31688f6e",
   "metadata": {},
   "outputs": [
    {
     "name": "stdout",
     "output_type": "stream",
     "text": [
      "a is: \n",
      " [2 3 4 6]\n",
      "\n",
      "\n",
      "b is : \n",
      " [4 5 6 7]\n",
      "[0. 0. 0. 0.]\n",
      "[1. 1. 1. 1.]\n",
      "[3 3 3 3]\n",
      "\n",
      "\n",
      "\n",
      "[[1 0 0]\n",
      " [0 1 0]\n",
      " [0 0 1]]\n",
      "\n",
      "\n",
      "[1 3 5 7 9]\n",
      "\n",
      "\n",
      "[ 1.   5.5 10. ]\n",
      "\n",
      "\n",
      "\n",
      "Arithmetic operations:\n",
      "\n",
      "\n",
      "np.add(a,b) is: \n",
      " [ 6  8 10 13]\n",
      "\n",
      "\n",
      "np.subtract(a,b) is: \n",
      " [-2 -2 -2 -1]\n",
      "\n",
      "\n",
      "np.multiply(a,b) is: \n",
      " [ 8 15 24 42]\n",
      "\n",
      "\n",
      "np.divide(a,b) is: \n",
      " [0.5        0.6        0.66666667 0.85714286]\n",
      "\n",
      "\n",
      "np.power(a,b) is:\n",
      " [    16    243   4096 279936]\n",
      "\n",
      "\n",
      "np.mod(a,b) is:\n",
      " [2 3 4 6]\n",
      "\n",
      "\n",
      "np.remainder(a,b) is:\n",
      " [2 3 4 6]\n",
      "\n",
      "\n",
      "np.sqrt(a) is:\n",
      " [1.4142 1.7321 2.     2.4495]\n",
      "\n",
      "\n",
      "[1 3 5 7 9]\n",
      "[10 12 14 16 18]\n",
      "stacking vertically:   [[ 1  3  5  7  9]\n",
      " [10 12 14 16 18]]\n",
      "Stacking Horizontally:  [ 1  3  5  7  9 10 12 14 16 18]\n"
     ]
    }
   ],
   "source": [
    "import numpy as np\n",
    "\n",
    "# np.zeros()\n",
    "# np.ones\n",
    "# np.full\n",
    "# np.eye\n",
    "# np.empty()\n",
    "# np.hstack\n",
    "# np.vstack\n",
    "# np.arange()\n",
    "# np.linspace()\n",
    "# Arithmetic operations \n",
    "# (np.add(), np.subtract(), np.multiply(), np.divide(), np.power(), \n",
    "#  np.reciprocal(), np.mod()) \n",
    "\n",
    "a = np.array([2,3,4,6])\n",
    "b = np.array([4,5,6,7])\n",
    "print(\"a is: \\n\",a)\n",
    "print(\"\\n\")\n",
    "print(\"b is : \\n\",b)\n",
    "\n",
    "print(np.zeros(a.shape))\n",
    "\n",
    "print(np.ones(a.shape))\n",
    "\n",
    "print(np.full((a.shape),3)) # np.full(shape,element to full)\n",
    "print(\"\\n\\n\")\n",
    "\n",
    "print(np.eye(3,dtype=\"int\")) # np.eye(no.of rows) creates Identity matrix\n",
    "print(\"\\n\")\n",
    "\n",
    "v1 = np.arange(1,10,2) # np.arange(start, stop, size.ofsteps)\n",
    "print(v1)\n",
    "print(\"\\n\")\n",
    "\n",
    "print(np.linspace(1,10,3)) # np.linspace(start, stop, no. of steps)\n",
    "print(\"\\n\\n\")\n",
    "\n",
    "# ARITHMETIC OPERATIONS\n",
    "\n",
    "print(\"Arithmetic operations:\\n\\n\")\n",
    "print(\"np.add(a,b) is: \\n\",np.add(a,b))\n",
    "print(\"\\n\")\n",
    "print(\"np.subtract(a,b) is: \\n\",np.subtract(a,b))\n",
    "print(\"\\n\")\n",
    "print(\"np.multiply(a,b) is: \\n\",np.multiply(a,b))\n",
    "print(\"\\n\")\n",
    "print(\"np.divide(a,b) is: \\n\",np.divide(a,b))\n",
    "print(\"\\n\")\n",
    "print(\"np.power(a,b) is:\\n\",np.power(a,b))\n",
    "print(\"\\n\")\n",
    "print(\"np.mod(a,b) is:\\n\",np.mod(a,b))\n",
    "print(\"\\n\")\n",
    "print(\"np.remainder(a,b) is:\\n\",np.remainder(a,b))\n",
    "print(\"\\n\")\n",
    "print(\"np.sqrt(a) is:\\n\",np.round_(np.sqrt(a),4))\n",
    "print(\"\\n\")\n",
    "\n",
    "v1 = np.arange(1,10,2)\n",
    "print(v1)\n",
    "v2 = np.arange(10,20,2)\n",
    "print(v2)\n",
    "print(\"stacking vertically:  \",np.vstack((v1,v2))) # no.of elements must be same in two arrays\n",
    "print(\"Stacking Horizontally: \",np.hstack((v1,v2)))\n"
   ]
  },
  {
   "cell_type": "markdown",
   "id": "c72c5214",
   "metadata": {},
   "source": [
    "### ii) Create multi-dimensional arrays and find its shape & dimension\n"
   ]
  },
  {
   "cell_type": "code",
   "execution_count": 81,
   "id": "204ff3c9",
   "metadata": {},
   "outputs": [
    {
     "name": "stdout",
     "output_type": "stream",
     "text": [
      "a is : \n",
      " [[ 1  2 34]\n",
      " [ 4  5  6]]\n",
      "b is : \n",
      " [[[ 1  2  3]\n",
      "  [ 3  4  5]\n",
      "  [33 44 55]]]\n",
      "2\n",
      "3\n",
      "(2, 3)\n",
      "(1, 3, 3)\n"
     ]
    }
   ],
   "source": [
    "a = np.array([[1,2,34],[4,5,6]])\n",
    "print(\"a is : \\n\",a)\n",
    "b = np.array([[[1,2,3],[3,4,5],[33,44,55]]])\n",
    "print(\"b is : \\n\",b)\n",
    "print(a.ndim)\n",
    "print(b.ndim)\n",
    "print(a.shape)\n",
    "print(b.shape)\n"
   ]
  },
  {
   "cell_type": "markdown",
   "id": "3c2e099c",
   "metadata": {},
   "source": [
    "### iii) Create a matrix full of zeros and ones\n"
   ]
  },
  {
   "cell_type": "code",
   "execution_count": 82,
   "id": "ea4c666b",
   "metadata": {},
   "outputs": [
    {
     "name": "stdout",
     "output_type": "stream",
     "text": [
      "a is: \n",
      " [2 3 4 6]\n",
      "\n",
      "\n",
      "b is : \n",
      " [4 5 6 7]\n",
      "[0. 0. 0. 0.]\n",
      "[1. 1. 1. 1.]\n"
     ]
    }
   ],
   "source": [
    "a = np.array([2,3,4,6])\n",
    "b = np.array([4,5,6,7])\n",
    "print(\"a is: \\n\",a)\n",
    "print(\"\\n\")\n",
    "print(\"b is : \\n\",b)\n",
    "\n",
    "print(np.zeros(a.shape))\n",
    "\n",
    "print(np.ones(a.shape))"
   ]
  },
  {
   "cell_type": "markdown",
   "id": "4c331de4",
   "metadata": {},
   "source": [
    "### iv) Reshape and flatten data in the array"
   ]
  },
  {
   "cell_type": "code",
   "execution_count": 83,
   "id": "72f654aa",
   "metadata": {},
   "outputs": [
    {
     "name": "stdout",
     "output_type": "stream",
     "text": [
      "a is: \n",
      " [[ 0  1  2  3  4  5  6  7]\n",
      " [ 8  9 10 11 12 13 14 15]\n",
      " [16 17 18 19 20 21 22 23]\n",
      " [24 25 26 27 28 29 30 31]]\n",
      "before flattening:\n",
      " [[1 2 3]\n",
      " [4 5 6]]\n",
      "After Flattening: \n",
      "  [1 2 3 4 5 6]\n"
     ]
    }
   ],
   "source": [
    "a = np.arange(32).reshape(4,8)\n",
    "print(\"a is: \\n\",a)\n",
    "\n",
    "c = np.array([[1,2,3],[4,5,6]])\n",
    "print(\"before flattening:\\n\",c)\n",
    "b = c.flatten() # array_name.flatten()\n",
    "print(\"After Flattening: \\n \",b)"
   ]
  },
  {
   "cell_type": "markdown",
   "id": "f0ed41b1",
   "metadata": {},
   "source": [
    "### v) Perform Arithmetic operations on Multi dimensional arrays"
   ]
  },
  {
   "cell_type": "code",
   "execution_count": 58,
   "id": "f3017c09",
   "metadata": {},
   "outputs": [
    {
     "name": "stdout",
     "output_type": "stream",
     "text": [
      "[[2 4 8]\n",
      " [9 9 9]]\n",
      "[[0 0 0]\n",
      " [1 1 1]]\n",
      "[[ 1  4 16]\n",
      " [20 20 20]]\n",
      "[[1.   1.   1.  ]\n",
      " [1.25 1.25 1.25]]\n",
      "[[  1   4 256]\n",
      " [625 625 625]]\n",
      "[[0 0 0]\n",
      " [1 1 1]]\n",
      "[[1.   1.41 2.  ]\n",
      " [2.24 2.24 2.24]]\n",
      "[[0 0 0]\n",
      " [1 1 1]]\n"
     ]
    }
   ],
   "source": [
    "a = np.array([[1,2,4],[5,5,5]])\n",
    "b = np.array([[1,2,4],[4,4,4]])\n",
    "print(np.add(a,b))\n",
    "print(np.subtract(a,b))\n",
    "print(np.multiply(a,b))\n",
    "print(np.divide(a,b))\n",
    "print(np.power(a,b))\n",
    "print(np.mod(a,b))\n",
    "print(np.round_(np.sqrt(a),2))\n",
    "print(np.remainder(a,b))"
   ]
  },
  {
   "cell_type": "markdown",
   "id": "5319f672",
   "metadata": {},
   "source": [
    "### vi) Append data vertically and horizontally. "
   ]
  },
  {
   "cell_type": "code",
   "execution_count": 12,
   "id": "1d8788f5",
   "metadata": {},
   "outputs": [
    {
     "name": "stdout",
     "output_type": "stream",
     "text": [
      "[1 3 5 7 9]\n",
      "[10 12 14 16 18] \n",
      "\n",
      "stacking vertically: \n",
      "  [[ 1  3  5  7  9]\n",
      " [10 12 14 16 18]]\n",
      "Stacking Horizontally: \n",
      " [ 1  3  5  7  9 10 12 14 16 18]\n"
     ]
    }
   ],
   "source": [
    "v1 = np.arange(1,10,2)\n",
    "print(v1)\n",
    "v2 = np.arange(10,20,2)\n",
    "print(v2,'\\n')\n",
    "\n",
    "# it takes only one positional args and no.of elements must be same in two arrays\n",
    "\n",
    "print(\"stacking vertically: \\n \",np.vstack((v1,v2))) \n",
    "print(\"Stacking Horizontally: \\n\",np.hstack((v1,v2)))"
   ]
  },
  {
   "cell_type": "markdown",
   "id": "281f227f",
   "metadata": {},
   "source": [
    "### vii) Apply indexing and slicing on array."
   ]
  },
  {
   "cell_type": "code",
   "execution_count": 30,
   "id": "9633fb0c",
   "metadata": {},
   "outputs": [
    {
     "name": "stdout",
     "output_type": "stream",
     "text": [
      "[ 1  2 44 32]\n",
      "---------\n",
      "1\n",
      "44\n",
      "[[1 2 3]\n",
      " [4 5 6]]\n",
      "********\n",
      "2\n",
      "6\n",
      "[[[1 2 3]\n",
      "  [4 5 6]\n",
      "  [7 8 9]]\n",
      "\n",
      " [[3 5 4]\n",
      "  [3 2 1]\n",
      "  [0 9 8]]]\n",
      "--------\n",
      "a[0,0,2] is :  3\n",
      "[10. 13. 16. 19. 22. 25.] \n",
      "\n",
      "[10. 13. 16.]\n",
      "[[ 0  1  2  3  4  5]\n",
      " [ 6  7  8  9 10 11]\n",
      " [12 13 14 15 16 17]\n",
      " [18 19 20 21 22 23]] \n",
      "\n",
      "3\n",
      "[[ 0  1  2  3  4  5]\n",
      " [18 19 20 21 22 23]\n",
      " [12 13 14 15 16 17]] \n",
      "\n",
      "[[[1 2]\n",
      "  [3 4]\n",
      "  [5 6]]\n",
      "\n",
      " [[1 1]\n",
      "  [2 2]\n",
      "  [3 3]]] \n",
      "\n",
      "1\n",
      "[[[1 1]\n",
      "  [2 2]\n",
      "  [3 3]]\n",
      "\n",
      " [[1 2]\n",
      "  [3 4]\n",
      "  [5 6]]\n",
      "\n",
      " [[1 2]\n",
      "  [3 4]\n",
      "  [5 6]]]\n"
     ]
    }
   ],
   "source": [
    "# 1d array indexing\n",
    "\n",
    "a = np.array([1,2,44,32])\n",
    "print(a)\n",
    "print('---------')\n",
    "print(a[0])\n",
    "print(a[2])\n",
    "\n",
    "# 2d array indexing\n",
    "\n",
    "a = np.array([[1,2,3],[4,5,6]])\n",
    "print(a)\n",
    "print('********')\n",
    "print(a[0,1])\n",
    "print(a[1,2])\n",
    "\n",
    "# 3d array indexing\n",
    "\n",
    "a = np.array([[[1,2,3],[4,5,6],[7,8,9]],\n",
    "              [[3,5,4],[3,2,1],[0,9,8]]])\n",
    "print(a)\n",
    "print('--------')\n",
    "print(\"a[0,0,2] is : \",a[0,0,2])\n",
    "\n",
    "# fancy indexing : It allows us to use an array of indices to access multiple array ele's at once. \n",
    "\n",
    "# one-d\n",
    "a = np.linspace(10,25,6)\n",
    "print(a,'\\n')\n",
    "print(a[[0,1,2]])\n",
    "\n",
    "# two-d\n",
    "a = np.arange(24).reshape(4,6)\n",
    "print(a,'\\n')\n",
    "print(a[0,3])\n",
    "print(a[[0,3,2]],'\\n')\n",
    "\n",
    "# three-d\n",
    "a = np.array([[[1,2],[3,4],[5,6]],[[1,1],[2,2],[3,3]]])\n",
    "print(a,'\\n')\n",
    "print(a[1,0,0])\n",
    "print(a[[1,0,0]])\n",
    "\n",
    "print(a[[1,2,3]]) #np.argsort sorts the elements and return their sorted indices\n",
    "print(a[np.argsort(a)])\n"
   ]
  },
  {
   "cell_type": "code",
   "execution_count": 31,
   "id": "e8939928",
   "metadata": {},
   "outputs": [
    {
     "name": "stdout",
     "output_type": "stream",
     "text": [
      "['Bob' 'Joe' 'Will' 'Bob' 'Will'] <U4 [[ 0.36106325  0.05634034 -0.62098464  0.12450862]\n",
      " [-0.34649026  0.63847415 -0.59367001  0.20043476]\n",
      " [ 0.39675963 -0.28502308  0.67767115 -0.62711466]\n",
      " [-0.44220613 -1.06009177 -0.32686534  0.8918691 ]\n",
      " [ 0.39056401  0.52242812  0.6570776  -0.17514675]] float64\n",
      "[ True False False  True False]\n",
      "[[ 0.36106325  0.05634034 -0.62098464  0.12450862]\n",
      " [-0.44220613 -1.06009177 -0.32686534  0.8918691 ]]\n",
      "[False  True  True False  True]\n",
      "mask=    [ True False  True  True  True]\n",
      "[-0.62098464 -0.34649026 -0.59367001 -0.28502308 -0.62711466 -0.44220613\n",
      " -1.06009177 -0.32686534 -0.17514675]\n",
      "[[0.36106325 0.05634034 0.         0.12450862]\n",
      " [0.         0.63847415 0.         0.20043476]\n",
      " [0.39675963 0.         0.67767115 0.        ]\n",
      " [0.         0.         0.         0.8918691 ]\n",
      " [0.39056401 0.52242812 0.6570776  0.        ]]\n"
     ]
    }
   ],
   "source": [
    "# boolean indexing\n",
    "\n",
    "names = np.array(['Bob', 'Joe', 'Will', 'Bob', 'Will'])\n",
    "\n",
    "data = np.random.randn(5, 4) \n",
    "# array of defined shape filled with random floating point samples from std normal dist\n",
    "\n",
    "print(names,names.dtype,data,data.dtype)\n",
    "print(names == 'Bob')\n",
    "print(data[names=='Bob'])\n",
    "print(names != 'Bob')\n",
    "\n",
    "mask = (names == 'Bob') | (names == 'Will')\n",
    "print('mask=   ',mask)\n",
    "\n",
    "print(data[data<0])\n",
    "\n",
    "#set all of the negative values in data to 0 we need only do\n",
    "\n",
    "data[data<0]=0\n",
    "print(data)\n",
    "#The boolean array must be of the same length as the axis it’s indexing\n"
   ]
  },
  {
   "cell_type": "code",
   "execution_count": 32,
   "id": "f29c0dfc",
   "metadata": {},
   "outputs": [
    {
     "name": "stdout",
     "output_type": "stream",
     "text": [
      "[51 66  4  3  2  1]\n",
      "[ 1  2  3  4 66 51]\n",
      "[ 2  3  4 66]\n",
      "\n",
      "\n"
     ]
    }
   ],
   "source": [
    "#slicing\n",
    "\n",
    "s = np.array([1,2,3,4,66,51])  # 1d array slicing\n",
    "s[2:5:1]  # x[i : j-1: k]\n",
    "\n",
    "#both are same\n",
    "\n",
    "print(s[::-1])\n",
    "print(s[:])\n",
    "\n",
    "print(s[1:-1])\n",
    "\n",
    "print(\"\\n\")"
   ]
  },
  {
   "cell_type": "markdown",
   "id": "b2c095fd",
   "metadata": {},
   "source": [
    "### viii) Use statistical functions on array - min,max,mean,median and std."
   ]
  },
  {
   "cell_type": "code",
   "execution_count": 50,
   "id": "39987a8c",
   "metadata": {},
   "outputs": [
    {
     "name": "stdout",
     "output_type": "stream",
     "text": [
      "1\n",
      "1\n",
      "4\n",
      "[[ 0  1  2  3  4  5]\n",
      " [ 6  7  8  9 10 11]\n",
      " [12 13 14 15 16 17]\n",
      " [18 19 20 21 22 23]] \n",
      "\n",
      "[ 0  6 12 18]\n",
      "[ 5 11 17 23]\n"
     ]
    }
   ],
   "source": [
    "a = np.array([1,2,3,4])\n",
    "print(a.min())\n",
    "print(np.min(a))\n",
    "print(np.max(a))\n",
    "\n",
    "a = np.arange(24).reshape(4,6)\n",
    "print(a,'\\n')\n",
    "print(np.min(a,axis=1))# axis =1 col-wise\n",
    "print(np.max(a,axis = 1))\n"
   ]
  },
  {
   "cell_type": "code",
   "execution_count": 39,
   "id": "dd2173b1",
   "metadata": {},
   "outputs": [
    {
     "name": "stdout",
     "output_type": "stream",
     "text": [
      "[ 2.5  8.5 14.5 20.5]\n",
      "[ 9. 10. 11. 12. 13. 14.]\n",
      "[1.70782513 1.70782513 1.70782513 1.70782513]\n"
     ]
    }
   ],
   "source": [
    "print(np.mean(a,axis = 1))\n",
    "print(np.median(a,axis = 0))\n",
    "print(np.std(a,axis = 1))\n"
   ]
  },
  {
   "cell_type": "markdown",
   "id": "ee04d674",
   "metadata": {},
   "source": [
    "### ix) Dot matrix product of two arrays."
   ]
  },
  {
   "cell_type": "code",
   "execution_count": 44,
   "id": "a3179f1b",
   "metadata": {},
   "outputs": [
    {
     "name": "stdout",
     "output_type": "stream",
     "text": [
      "[[ 0  1  2  3  4]\n",
      " [ 5  6  7  8  9]\n",
      " [10 11 12 13 14]\n",
      " [15 16 17 18 19]]\n",
      "[[ 0  1  2  3]\n",
      " [ 4  5  6  7]\n",
      " [ 8  9 10 11]\n",
      " [12 13 14 15]\n",
      " [16 17 18 19]]\n",
      "[[120 130 140 150]\n",
      " [320 355 390 425]\n",
      " [520 580 640 700]\n",
      " [720 805 890 975]]\n",
      "[[120 130 140 150]\n",
      " [320 355 390 425]\n",
      " [520 580 640 700]\n",
      " [720 805 890 975]]\n",
      "[[120 130 140 150]\n",
      " [320 355 390 425]\n",
      " [520 580 640 700]\n",
      " [720 805 890 975]]\n"
     ]
    }
   ],
   "source": [
    "a = np.arange(20).reshape(4,5)\n",
    "print(a)\n",
    "b = np.arange(20).reshape(5,4)\n",
    "print(b)\n",
    "print(np.matmul(a,b))\n",
    "print(np.dot(a,b))\n",
    "print(a@b)\n"
   ]
  },
  {
   "cell_type": "markdown",
   "id": "daf215c4",
   "metadata": {},
   "source": [
    "### x) Compute Eigen Values of a matrix"
   ]
  },
  {
   "cell_type": "code",
   "execution_count": 79,
   "id": "e4e0094c",
   "metadata": {},
   "outputs": [
    {
     "data": {
      "text/plain": [
       "EigResult(eigenvalues=array([15.4422907 , -0.98661655,  3.54432584]), eigenvectors=array([[ 0.36886455,  0.81664483,  0.37173179],\n",
       "       [ 0.61669356, -0.57673733, -0.7003462 ],\n",
       "       [ 0.69543367,  0.02157037,  0.60936908]]))"
      ]
     },
     "execution_count": 79,
     "metadata": {},
     "output_type": "execute_result"
    }
   ],
   "source": [
    "a = np.array([[1,3,5],[7,9,2],[4,6,8]])\n",
    "np.linalg.eig(a)"
   ]
  },
  {
   "cell_type": "markdown",
   "id": "43848139",
   "metadata": {},
   "source": [
    "### xi) Solve a linear matrix equation such as 3*x0 + x1 = 9 , x0 + 2*x1 = 8"
   ]
  },
  {
   "cell_type": "code",
   "execution_count": 72,
   "id": "11ddbfb4",
   "metadata": {},
   "outputs": [
    {
     "name": "stdout",
     "output_type": "stream",
     "text": [
      "[2. 3.]\n"
     ]
    }
   ],
   "source": [
    "# define co-efficient matrix 3,1 and 1,2\n",
    "a = np.array([[3,1],[1,2]])\n",
    "b = np.array([9,8])\n",
    "print(np.linalg.solve(a,b))"
   ]
  },
  {
   "cell_type": "markdown",
   "id": "e4d87628",
   "metadata": {},
   "source": [
    "### xii) compute multiplicative inverse of a matrix."
   ]
  },
  {
   "cell_type": "code",
   "execution_count": 61,
   "id": "540761ef",
   "metadata": {},
   "outputs": [
    {
     "name": "stdout",
     "output_type": "stream",
     "text": [
      "[[-1.11111111 -0.11111111  0.72222222]\n",
      " [ 0.88888889  0.22222222 -0.61111111]\n",
      " [-0.11111111 -0.11111111  0.22222222]]\n"
     ]
    }
   ],
   "source": [
    "a = np.array([[1,3,5],[7,9,2],[4,6,8]])\n",
    "print(np.linalg.inv(a))"
   ]
  },
  {
   "cell_type": "markdown",
   "id": "5f3d77c8",
   "metadata": {},
   "source": [
    "### xiii) compute the rank of a matrix."
   ]
  },
  {
   "cell_type": "code",
   "execution_count": 76,
   "id": "af01a9bf",
   "metadata": {},
   "outputs": [
    {
     "name": "stdout",
     "output_type": "stream",
     "text": [
      "2\n"
     ]
    }
   ],
   "source": [
    "# The number of linearly independent columns ( or rows ) of a matrix\n",
    "\n",
    "a = np.array([[1,2],[3,4],[5,6]])\n",
    "print(np.linalg.matrix_rank(a))"
   ]
  },
  {
   "cell_type": "markdown",
   "id": "d116edd5",
   "metadata": {},
   "source": [
    "### xiv) compute the determinant of an array."
   ]
  },
  {
   "cell_type": "code",
   "execution_count": 62,
   "id": "79997f0a",
   "metadata": {},
   "outputs": [
    {
     "name": "stdout",
     "output_type": "stream",
     "text": [
      "-6.0\n"
     ]
    }
   ],
   "source": [
    "a = np.array([[1,3,5],[2,4,5],[4,6,8]])\n",
    "print(np.linalg.det(a))"
   ]
  },
  {
   "cell_type": "markdown",
   "id": "6b1978bf",
   "metadata": {},
   "source": [
    "### xv) Perform transpose and change of axes operations on arrays."
   ]
  },
  {
   "cell_type": "code",
   "execution_count": 70,
   "id": "d9d598bb",
   "metadata": {},
   "outputs": [
    {
     "name": "stdout",
     "output_type": "stream",
     "text": [
      "[[ 0  1  2  3]\n",
      " [ 4  5  6  7]\n",
      " [ 8  9 10 11]]\n",
      "[[ 0  4  8]\n",
      " [ 1  5  9]\n",
      " [ 2  6 10]\n",
      " [ 3  7 11]]\n",
      "[[ 0  4  8]\n",
      " [ 1  5  9]\n",
      " [ 2  6 10]\n",
      " [ 3  7 11]]\n",
      "[[ 0  4  8]\n",
      " [ 1  5  9]\n",
      " [ 2  6 10]\n",
      " [ 3  7 11]]\n"
     ]
    }
   ],
   "source": [
    "a = np.arange(12).reshape(3,4)\n",
    "print(a)\n",
    "print(a.T)\n",
    "print(np.transpose(a))\n",
    "\n",
    "print(np.swapaxes(a,0,1)) # np.swapaxes(array, axis1, axis2)"
   ]
  },
  {
   "cell_type": "markdown",
   "id": "9760490a",
   "metadata": {},
   "source": [
    "### xvi) Perform Splitting operations on arrays."
   ]
  },
  {
   "cell_type": "code",
   "execution_count": 60,
   "id": "9dd3f905",
   "metadata": {},
   "outputs": [
    {
     "name": "stdout",
     "output_type": "stream",
     "text": [
      "[array([[0, 1, 2, 3],\n",
      "       [4, 5, 6, 7]]), array([[ 8,  9, 10, 11],\n",
      "       [12, 13, 14, 15]]), array([[16, 17, 18, 19],\n",
      "       [20, 21, 22, 23]])]\n",
      "[array([[0],\n",
      "       [3],\n",
      "       [6],\n",
      "       [9]]), array([[ 1],\n",
      "       [ 4],\n",
      "       [ 7],\n",
      "       [10]]), array([[ 2],\n",
      "       [ 5],\n",
      "       [ 8],\n",
      "       [11]])]\n"
     ]
    }
   ],
   "source": [
    "a = np.arange(24).reshape(6,4)\n",
    "print(np.vsplit(a,3))\n",
    "b = np.arange(12).reshape(4,3)\n",
    "print(np.hsplit(b,3))"
   ]
  }
 ],
 "metadata": {
  "kernelspec": {
   "display_name": "Python 3 (ipykernel)",
   "language": "python",
   "name": "python3"
  },
  "language_info": {
   "codemirror_mode": {
    "name": "ipython",
    "version": 3
   },
   "file_extension": ".py",
   "mimetype": "text/x-python",
   "name": "python",
   "nbconvert_exporter": "python",
   "pygments_lexer": "ipython3",
   "version": "3.10.8"
  }
 },
 "nbformat": 4,
 "nbformat_minor": 5
}
